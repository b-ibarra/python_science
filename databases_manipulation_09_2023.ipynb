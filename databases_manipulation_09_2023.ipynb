{
  "nbformat": 4,
  "nbformat_minor": 0,
  "metadata": {
    "colab": {
      "provenance": []
    },
    "kernelspec": {
      "name": "python3",
      "display_name": "Python 3"
    },
    "language_info": {
      "name": "python"
    }
  },
  "cells": [
    {
      "cell_type": "markdown",
      "source": [
        "# Manipulación de datos\n",
        "\n",
        "Autora: Beatriz Ibarra Mendoza  \n",
        "Última actualización: 18/09/2023  \n",
        "\n",
        "Este notebook explora y manipula datos relacionados con los sistemas operativos que utilizan los empleados de una empresa para obtener nuevos dataframes a partir de esta información. El notebook incluye:  \n",
        "* *Instalación* de paqueterías.  \n",
        "* *Exploración* de data.  \n",
        "* *Extracción* de información de interés.  \n",
        "* *Generación de archivos .xlsx* con información extraída.\n",
        "\n",
        "\n"
      ],
      "metadata": {
        "id": "0cdgaw-x-fpk"
      }
    },
    {
      "cell_type": "markdown",
      "source": [
        "### Instalación"
      ],
      "metadata": {
        "id": "SASJqWOlHWom"
      }
    },
    {
      "cell_type": "code",
      "execution_count": null,
      "metadata": {
        "id": "75qddHcF-Zn2",
        "colab": {
          "base_uri": "https://localhost:8080/"
        },
        "outputId": "0cf00126-d61a-4fcf-c77c-ece1d76638a2"
      },
      "outputs": [
        {
          "output_type": "stream",
          "name": "stdout",
          "text": [
            "Collecting XlsxWriter\n",
            "  Downloading XlsxWriter-3.1.3-py3-none-any.whl (153 kB)\n",
            "\u001b[?25l     \u001b[90m━━━━━━━━━━━━━━━━━━━━━━━━━━━━━━━━━━━━━━━━\u001b[0m \u001b[32m0.0/153.2 kB\u001b[0m \u001b[31m?\u001b[0m eta \u001b[36m-:--:--\u001b[0m\r\u001b[2K     \u001b[91m━━━━━━━━━━━━━━━━━━━━━━━━━━━━━━━━━━━━\u001b[0m\u001b[90m╺\u001b[0m\u001b[90m━━\u001b[0m \u001b[32m143.4/153.2 kB\u001b[0m \u001b[31m4.8 MB/s\u001b[0m eta \u001b[36m0:00:01\u001b[0m\r\u001b[2K     \u001b[90m━━━━━━━━━━━━━━━━━━━━━━━━━━━━━━━━━━━━━━━\u001b[0m \u001b[32m153.2/153.2 kB\u001b[0m \u001b[31m4.0 MB/s\u001b[0m eta \u001b[36m0:00:00\u001b[0m\n",
            "\u001b[?25hInstalling collected packages: XlsxWriter\n",
            "Successfully installed XlsxWriter-3.1.3\n"
          ]
        }
      ],
      "source": [
        "!pip install XlsxWriter\n",
        "import xlsxwriter\n",
        "import pandas as pd"
      ]
    },
    {
      "cell_type": "markdown",
      "source": [
        "### Exploración de data"
      ],
      "metadata": {
        "id": "mvT4t8BLHlsY"
      }
    },
    {
      "cell_type": "code",
      "source": [
        "# Recuperar información de archivos .csv y crear dataframes.\n",
        "employees_data1 = pd.read_csv('/content/Train.csv')\n",
        "employees_data2 = pd.read_csv('/content/Test.csv')\n",
        "employees_os1 = pd.read_csv('/content/Train2.csv')\n",
        "employees_os2 = pd.read_csv('/content/Test2.csv')\n",
        "# Exploración.\n",
        "employees_data1.info()\n",
        "employees_data2.info()\n",
        "employees_os1.info()\n",
        "employees_os2.info()"
      ],
      "metadata": {
        "colab": {
          "base_uri": "https://localhost:8080/"
        },
        "id": "nmXbM8nwFt5X",
        "outputId": "37dd1599-7bc1-4822-a8aa-cef38c1453d0"
      },
      "execution_count": null,
      "outputs": [
        {
          "output_type": "stream",
          "name": "stdout",
          "text": [
            "<class 'pandas.core.frame.DataFrame'>\n",
            "RangeIndex: 7000 entries, 0 to 6999\n",
            "Data columns (total 24 columns):\n",
            " #   Column                     Non-Null Count  Dtype  \n",
            "---  ------                     --------------  -----  \n",
            " 0   Employee_ID                7000 non-null   object \n",
            " 1   Gender                     7000 non-null   object \n",
            " 2   Age                        6588 non-null   float64\n",
            " 3   Education_Level            7000 non-null   int64  \n",
            " 4   Relationship_Status        7000 non-null   object \n",
            " 5   Hometown                   7000 non-null   object \n",
            " 6   Unit                       7000 non-null   object \n",
            " 7   Decision_skill_possess     7000 non-null   object \n",
            " 8   Time_of_service            6856 non-null   float64\n",
            " 9   Time_since_promotion       7000 non-null   int64  \n",
            " 10  growth_rate                7000 non-null   int64  \n",
            " 11  Travel_Rate                7000 non-null   int64  \n",
            " 12  Post_Level                 7000 non-null   int64  \n",
            " 13  Pay_Scale                  6991 non-null   float64\n",
            " 14  Compensation_and_Benefits  7000 non-null   object \n",
            " 15  Work_Life_balance          6989 non-null   float64\n",
            " 16  VAR1                       7000 non-null   int64  \n",
            " 17  VAR2                       6423 non-null   float64\n",
            " 18  VAR3                       7000 non-null   float64\n",
            " 19  VAR4                       6344 non-null   float64\n",
            " 20  VAR5                       7000 non-null   int64  \n",
            " 21  VAR6                       7000 non-null   int64  \n",
            " 22  VAR7                       7000 non-null   int64  \n",
            " 23  Attrition_rate             7000 non-null   float64\n",
            "dtypes: float64(8), int64(9), object(7)\n",
            "memory usage: 1.3+ MB\n",
            "<class 'pandas.core.frame.DataFrame'>\n",
            "RangeIndex: 3000 entries, 0 to 2999\n",
            "Data columns (total 23 columns):\n",
            " #   Column                     Non-Null Count  Dtype  \n",
            "---  ------                     --------------  -----  \n",
            " 0   Employee_ID                3000 non-null   object \n",
            " 1   Gender                     3000 non-null   object \n",
            " 2   Age                        2839 non-null   float64\n",
            " 3   Education_Level            3000 non-null   int64  \n",
            " 4   Relationship_Status        3000 non-null   object \n",
            " 5   Hometown                   3000 non-null   object \n",
            " 6   Unit                       3000 non-null   object \n",
            " 7   Decision_skill_possess     3000 non-null   object \n",
            " 8   Time_of_service            2948 non-null   float64\n",
            " 9   Time_since_promotion       3000 non-null   int64  \n",
            " 10  growth_rate                3000 non-null   int64  \n",
            " 11  Travel_Rate                3000 non-null   int64  \n",
            " 12  Post_Level                 3000 non-null   int64  \n",
            " 13  Pay_Scale                  2997 non-null   float64\n",
            " 14  Compensation_and_Benefits  3000 non-null   object \n",
            " 15  Work_Life_balance          2995 non-null   float64\n",
            " 16  VAR1                       3000 non-null   int64  \n",
            " 17  VAR2                       2783 non-null   float64\n",
            " 18  VAR3                       3000 non-null   float64\n",
            " 19  VAR4                       2702 non-null   float64\n",
            " 20  VAR5                       3000 non-null   int64  \n",
            " 21  VAR6                       3000 non-null   int64  \n",
            " 22  VAR7                       3000 non-null   int64  \n",
            "dtypes: float64(7), int64(9), object(7)\n",
            "memory usage: 539.2+ KB\n",
            "<class 'pandas.core.frame.DataFrame'>\n",
            "RangeIndex: 7000 entries, 0 to 6999\n",
            "Data columns (total 7 columns):\n",
            " #   Column                Non-Null Count  Dtype  \n",
            "---  ------                --------------  -----  \n",
            " 0   Employee_ID           7000 non-null   object \n",
            " 1    Computer_OS          6883 non-null   object \n",
            " 2    Computer_OS_version  6741 non-null   object \n",
            " 3    Computer_tickets     7000 non-null   int64  \n",
            " 4    Mobile_OS            6800 non-null   object \n",
            " 5    Mobile_OS_version    6780 non-null   float64\n",
            " 6    Mobile_tickets       7000 non-null   int64  \n",
            "dtypes: float64(1), int64(2), object(4)\n",
            "memory usage: 382.9+ KB\n",
            "<class 'pandas.core.frame.DataFrame'>\n",
            "RangeIndex: 3000 entries, 0 to 2999\n",
            "Data columns (total 7 columns):\n",
            " #   Column                Non-Null Count  Dtype  \n",
            "---  ------                --------------  -----  \n",
            " 0   Employee_ID           3000 non-null   object \n",
            " 1    Computer_OS          2959 non-null   object \n",
            " 2    Computer_OS_version  2899 non-null   object \n",
            " 3    Computer_tickets     3000 non-null   int64  \n",
            " 4    Mobile_OS            2913 non-null   object \n",
            " 5    Mobile_OS_version    2901 non-null   float64\n",
            " 6    Mobile_tickets       3000 non-null   int64  \n",
            "dtypes: float64(1), int64(2), object(4)\n",
            "memory usage: 164.2+ KB\n"
          ]
        }
      ]
    },
    {
      "cell_type": "code",
      "source": [
        "# Concatenar datos generales de empleados.\n",
        "all_employees_data = pd.concat([employees_data1, employees_data2])\n",
        "# Concatenar datos de sistemas operativos.\n",
        "all_os_data = pd.concat([employees_os1, employees_os2])\n",
        "# Unir todos los datos en un dataframe.\n",
        "employees_df = all_employees_data.merge(\n",
        "    all_os_data,\n",
        "    how='left',\n",
        "    left_on='Employee_ID',\n",
        "    right_on='Employee_ID'\n",
        ")\n",
        "# Dataframe con las columnas necesarias para el siguiente paso.\n",
        "final_df = employees_df[[\n",
        "    'Employee_ID', 'Age', 'Education_Level', ' Computer_OS',\n",
        "    ' Computer_tickets', ' Mobile_OS'\n",
        "]]\n",
        "final_df"
      ],
      "metadata": {
        "colab": {
          "base_uri": "https://localhost:8080/",
          "height": 423
        },
        "id": "xJi_SXSVGnbu",
        "outputId": "1f4555b1-3929-4f3e-aec7-ce7b0b8b1c1c"
      },
      "execution_count": null,
      "outputs": [
        {
          "output_type": "execute_result",
          "data": {
            "text/plain": [
              "     Employee_ID   Age  Education_Level  Computer_OS   Computer_tickets  \\\n",
              "0      EID_23371  42.0                4      Windows                  1   \n",
              "1      EID_18000  24.0                3        MacOS                  1   \n",
              "2       EID_3891  58.0                3      Windows                  1   \n",
              "3      EID_17492  26.0                3      Windows                  1   \n",
              "4      EID_22534  31.0                1      Windows                  9   \n",
              "...          ...   ...              ...          ...                ...   \n",
              "9995   EID_22547  32.0                3      Windows                  4   \n",
              "9996   EID_10066   NaN                2        MacOS                  2   \n",
              "9997    EID_7126  60.0                4      Windows                  0   \n",
              "9998    EID_4929  51.0                1      Windows                  6   \n",
              "9999   EID_24750  45.0                1      Windows                  4   \n",
              "\n",
              "      Mobile_OS  \n",
              "0       Android  \n",
              "1           iOS  \n",
              "2       Android  \n",
              "3       Android  \n",
              "4       Android  \n",
              "...         ...  \n",
              "9995    Android  \n",
              "9996    Android  \n",
              "9997    Android  \n",
              "9998    Android  \n",
              "9999    Android  \n",
              "\n",
              "[10000 rows x 6 columns]"
            ],
            "text/html": [
              "\n",
              "  <div id=\"df-745aad08-1a7e-4fad-a721-5e6e72c401c5\" class=\"colab-df-container\">\n",
              "    <div>\n",
              "<style scoped>\n",
              "    .dataframe tbody tr th:only-of-type {\n",
              "        vertical-align: middle;\n",
              "    }\n",
              "\n",
              "    .dataframe tbody tr th {\n",
              "        vertical-align: top;\n",
              "    }\n",
              "\n",
              "    .dataframe thead th {\n",
              "        text-align: right;\n",
              "    }\n",
              "</style>\n",
              "<table border=\"1\" class=\"dataframe\">\n",
              "  <thead>\n",
              "    <tr style=\"text-align: right;\">\n",
              "      <th></th>\n",
              "      <th>Employee_ID</th>\n",
              "      <th>Age</th>\n",
              "      <th>Education_Level</th>\n",
              "      <th>Computer_OS</th>\n",
              "      <th>Computer_tickets</th>\n",
              "      <th>Mobile_OS</th>\n",
              "    </tr>\n",
              "  </thead>\n",
              "  <tbody>\n",
              "    <tr>\n",
              "      <th>0</th>\n",
              "      <td>EID_23371</td>\n",
              "      <td>42.0</td>\n",
              "      <td>4</td>\n",
              "      <td>Windows</td>\n",
              "      <td>1</td>\n",
              "      <td>Android</td>\n",
              "    </tr>\n",
              "    <tr>\n",
              "      <th>1</th>\n",
              "      <td>EID_18000</td>\n",
              "      <td>24.0</td>\n",
              "      <td>3</td>\n",
              "      <td>MacOS</td>\n",
              "      <td>1</td>\n",
              "      <td>iOS</td>\n",
              "    </tr>\n",
              "    <tr>\n",
              "      <th>2</th>\n",
              "      <td>EID_3891</td>\n",
              "      <td>58.0</td>\n",
              "      <td>3</td>\n",
              "      <td>Windows</td>\n",
              "      <td>1</td>\n",
              "      <td>Android</td>\n",
              "    </tr>\n",
              "    <tr>\n",
              "      <th>3</th>\n",
              "      <td>EID_17492</td>\n",
              "      <td>26.0</td>\n",
              "      <td>3</td>\n",
              "      <td>Windows</td>\n",
              "      <td>1</td>\n",
              "      <td>Android</td>\n",
              "    </tr>\n",
              "    <tr>\n",
              "      <th>4</th>\n",
              "      <td>EID_22534</td>\n",
              "      <td>31.0</td>\n",
              "      <td>1</td>\n",
              "      <td>Windows</td>\n",
              "      <td>9</td>\n",
              "      <td>Android</td>\n",
              "    </tr>\n",
              "    <tr>\n",
              "      <th>...</th>\n",
              "      <td>...</td>\n",
              "      <td>...</td>\n",
              "      <td>...</td>\n",
              "      <td>...</td>\n",
              "      <td>...</td>\n",
              "      <td>...</td>\n",
              "    </tr>\n",
              "    <tr>\n",
              "      <th>9995</th>\n",
              "      <td>EID_22547</td>\n",
              "      <td>32.0</td>\n",
              "      <td>3</td>\n",
              "      <td>Windows</td>\n",
              "      <td>4</td>\n",
              "      <td>Android</td>\n",
              "    </tr>\n",
              "    <tr>\n",
              "      <th>9996</th>\n",
              "      <td>EID_10066</td>\n",
              "      <td>NaN</td>\n",
              "      <td>2</td>\n",
              "      <td>MacOS</td>\n",
              "      <td>2</td>\n",
              "      <td>Android</td>\n",
              "    </tr>\n",
              "    <tr>\n",
              "      <th>9997</th>\n",
              "      <td>EID_7126</td>\n",
              "      <td>60.0</td>\n",
              "      <td>4</td>\n",
              "      <td>Windows</td>\n",
              "      <td>0</td>\n",
              "      <td>Android</td>\n",
              "    </tr>\n",
              "    <tr>\n",
              "      <th>9998</th>\n",
              "      <td>EID_4929</td>\n",
              "      <td>51.0</td>\n",
              "      <td>1</td>\n",
              "      <td>Windows</td>\n",
              "      <td>6</td>\n",
              "      <td>Android</td>\n",
              "    </tr>\n",
              "    <tr>\n",
              "      <th>9999</th>\n",
              "      <td>EID_24750</td>\n",
              "      <td>45.0</td>\n",
              "      <td>1</td>\n",
              "      <td>Windows</td>\n",
              "      <td>4</td>\n",
              "      <td>Android</td>\n",
              "    </tr>\n",
              "  </tbody>\n",
              "</table>\n",
              "<p>10000 rows × 6 columns</p>\n",
              "</div>\n",
              "    <div class=\"colab-df-buttons\">\n",
              "\n",
              "  <div class=\"colab-df-container\">\n",
              "    <button class=\"colab-df-convert\" onclick=\"convertToInteractive('df-745aad08-1a7e-4fad-a721-5e6e72c401c5')\"\n",
              "            title=\"Convert this dataframe to an interactive table.\"\n",
              "            style=\"display:none;\">\n",
              "\n",
              "  <svg xmlns=\"http://www.w3.org/2000/svg\" height=\"24px\" viewBox=\"0 -960 960 960\">\n",
              "    <path d=\"M120-120v-720h720v720H120Zm60-500h600v-160H180v160Zm220 220h160v-160H400v160Zm0 220h160v-160H400v160ZM180-400h160v-160H180v160Zm440 0h160v-160H620v160ZM180-180h160v-160H180v160Zm440 0h160v-160H620v160Z\"/>\n",
              "  </svg>\n",
              "    </button>\n",
              "\n",
              "  <style>\n",
              "    .colab-df-container {\n",
              "      display:flex;\n",
              "      gap: 12px;\n",
              "    }\n",
              "\n",
              "    .colab-df-convert {\n",
              "      background-color: #E8F0FE;\n",
              "      border: none;\n",
              "      border-radius: 50%;\n",
              "      cursor: pointer;\n",
              "      display: none;\n",
              "      fill: #1967D2;\n",
              "      height: 32px;\n",
              "      padding: 0 0 0 0;\n",
              "      width: 32px;\n",
              "    }\n",
              "\n",
              "    .colab-df-convert:hover {\n",
              "      background-color: #E2EBFA;\n",
              "      box-shadow: 0px 1px 2px rgba(60, 64, 67, 0.3), 0px 1px 3px 1px rgba(60, 64, 67, 0.15);\n",
              "      fill: #174EA6;\n",
              "    }\n",
              "\n",
              "    .colab-df-buttons div {\n",
              "      margin-bottom: 4px;\n",
              "    }\n",
              "\n",
              "    [theme=dark] .colab-df-convert {\n",
              "      background-color: #3B4455;\n",
              "      fill: #D2E3FC;\n",
              "    }\n",
              "\n",
              "    [theme=dark] .colab-df-convert:hover {\n",
              "      background-color: #434B5C;\n",
              "      box-shadow: 0px 1px 3px 1px rgba(0, 0, 0, 0.15);\n",
              "      filter: drop-shadow(0px 1px 2px rgba(0, 0, 0, 0.3));\n",
              "      fill: #FFFFFF;\n",
              "    }\n",
              "  </style>\n",
              "\n",
              "    <script>\n",
              "      const buttonEl =\n",
              "        document.querySelector('#df-745aad08-1a7e-4fad-a721-5e6e72c401c5 button.colab-df-convert');\n",
              "      buttonEl.style.display =\n",
              "        google.colab.kernel.accessAllowed ? 'block' : 'none';\n",
              "\n",
              "      async function convertToInteractive(key) {\n",
              "        const element = document.querySelector('#df-745aad08-1a7e-4fad-a721-5e6e72c401c5');\n",
              "        const dataTable =\n",
              "          await google.colab.kernel.invokeFunction('convertToInteractive',\n",
              "                                                    [key], {});\n",
              "        if (!dataTable) return;\n",
              "\n",
              "        const docLinkHtml = 'Like what you see? Visit the ' +\n",
              "          '<a target=\"_blank\" href=https://colab.research.google.com/notebooks/data_table.ipynb>data table notebook</a>'\n",
              "          + ' to learn more about interactive tables.';\n",
              "        element.innerHTML = '';\n",
              "        dataTable['output_type'] = 'display_data';\n",
              "        await google.colab.output.renderOutput(dataTable, element);\n",
              "        const docLink = document.createElement('div');\n",
              "        docLink.innerHTML = docLinkHtml;\n",
              "        element.appendChild(docLink);\n",
              "      }\n",
              "    </script>\n",
              "  </div>\n",
              "\n",
              "\n",
              "<div id=\"df-bb710b7e-254b-471d-acff-86f01a2f8160\">\n",
              "  <button class=\"colab-df-quickchart\" onclick=\"quickchart('df-bb710b7e-254b-471d-acff-86f01a2f8160')\"\n",
              "            title=\"Suggest charts.\"\n",
              "            style=\"display:none;\">\n",
              "\n",
              "<svg xmlns=\"http://www.w3.org/2000/svg\" height=\"24px\"viewBox=\"0 0 24 24\"\n",
              "     width=\"24px\">\n",
              "    <g>\n",
              "        <path d=\"M19 3H5c-1.1 0-2 .9-2 2v14c0 1.1.9 2 2 2h14c1.1 0 2-.9 2-2V5c0-1.1-.9-2-2-2zM9 17H7v-7h2v7zm4 0h-2V7h2v10zm4 0h-2v-4h2v4z\"/>\n",
              "    </g>\n",
              "</svg>\n",
              "  </button>\n",
              "\n",
              "<style>\n",
              "  .colab-df-quickchart {\n",
              "      --bg-color: #E8F0FE;\n",
              "      --fill-color: #1967D2;\n",
              "      --hover-bg-color: #E2EBFA;\n",
              "      --hover-fill-color: #174EA6;\n",
              "      --disabled-fill-color: #AAA;\n",
              "      --disabled-bg-color: #DDD;\n",
              "  }\n",
              "\n",
              "  [theme=dark] .colab-df-quickchart {\n",
              "      --bg-color: #3B4455;\n",
              "      --fill-color: #D2E3FC;\n",
              "      --hover-bg-color: #434B5C;\n",
              "      --hover-fill-color: #FFFFFF;\n",
              "      --disabled-bg-color: #3B4455;\n",
              "      --disabled-fill-color: #666;\n",
              "  }\n",
              "\n",
              "  .colab-df-quickchart {\n",
              "    background-color: var(--bg-color);\n",
              "    border: none;\n",
              "    border-radius: 50%;\n",
              "    cursor: pointer;\n",
              "    display: none;\n",
              "    fill: var(--fill-color);\n",
              "    height: 32px;\n",
              "    padding: 0;\n",
              "    width: 32px;\n",
              "  }\n",
              "\n",
              "  .colab-df-quickchart:hover {\n",
              "    background-color: var(--hover-bg-color);\n",
              "    box-shadow: 0 1px 2px rgba(60, 64, 67, 0.3), 0 1px 3px 1px rgba(60, 64, 67, 0.15);\n",
              "    fill: var(--button-hover-fill-color);\n",
              "  }\n",
              "\n",
              "  .colab-df-quickchart-complete:disabled,\n",
              "  .colab-df-quickchart-complete:disabled:hover {\n",
              "    background-color: var(--disabled-bg-color);\n",
              "    fill: var(--disabled-fill-color);\n",
              "    box-shadow: none;\n",
              "  }\n",
              "\n",
              "  .colab-df-spinner {\n",
              "    border: 2px solid var(--fill-color);\n",
              "    border-color: transparent;\n",
              "    border-bottom-color: var(--fill-color);\n",
              "    animation:\n",
              "      spin 1s steps(1) infinite;\n",
              "  }\n",
              "\n",
              "  @keyframes spin {\n",
              "    0% {\n",
              "      border-color: transparent;\n",
              "      border-bottom-color: var(--fill-color);\n",
              "      border-left-color: var(--fill-color);\n",
              "    }\n",
              "    20% {\n",
              "      border-color: transparent;\n",
              "      border-left-color: var(--fill-color);\n",
              "      border-top-color: var(--fill-color);\n",
              "    }\n",
              "    30% {\n",
              "      border-color: transparent;\n",
              "      border-left-color: var(--fill-color);\n",
              "      border-top-color: var(--fill-color);\n",
              "      border-right-color: var(--fill-color);\n",
              "    }\n",
              "    40% {\n",
              "      border-color: transparent;\n",
              "      border-right-color: var(--fill-color);\n",
              "      border-top-color: var(--fill-color);\n",
              "    }\n",
              "    60% {\n",
              "      border-color: transparent;\n",
              "      border-right-color: var(--fill-color);\n",
              "    }\n",
              "    80% {\n",
              "      border-color: transparent;\n",
              "      border-right-color: var(--fill-color);\n",
              "      border-bottom-color: var(--fill-color);\n",
              "    }\n",
              "    90% {\n",
              "      border-color: transparent;\n",
              "      border-bottom-color: var(--fill-color);\n",
              "    }\n",
              "  }\n",
              "</style>\n",
              "\n",
              "  <script>\n",
              "    async function quickchart(key) {\n",
              "      const quickchartButtonEl =\n",
              "        document.querySelector('#' + key + ' button');\n",
              "      quickchartButtonEl.disabled = true;  // To prevent multiple clicks.\n",
              "      quickchartButtonEl.classList.add('colab-df-spinner');\n",
              "      try {\n",
              "        const charts = await google.colab.kernel.invokeFunction(\n",
              "            'suggestCharts', [key], {});\n",
              "      } catch (error) {\n",
              "        console.error('Error during call to suggestCharts:', error);\n",
              "      }\n",
              "      quickchartButtonEl.classList.remove('colab-df-spinner');\n",
              "      quickchartButtonEl.classList.add('colab-df-quickchart-complete');\n",
              "    }\n",
              "    (() => {\n",
              "      let quickchartButtonEl =\n",
              "        document.querySelector('#df-bb710b7e-254b-471d-acff-86f01a2f8160 button');\n",
              "      quickchartButtonEl.style.display =\n",
              "        google.colab.kernel.accessAllowed ? 'block' : 'none';\n",
              "    })();\n",
              "  </script>\n",
              "</div>\n",
              "    </div>\n",
              "  </div>\n"
            ]
          },
          "metadata": {},
          "execution_count": 5
        }
      ]
    },
    {
      "cell_type": "code",
      "source": [
        "# Asignación de 'no registrado' a registros sin valores (en OS).\n",
        "final_df[' Computer_OS'].fillna('No registrado', inplace=True)\n",
        "final_df[' Mobile_OS'].fillna('No registrado', inplace=True)\n",
        "final_df.info()"
      ],
      "metadata": {
        "colab": {
          "base_uri": "https://localhost:8080/"
        },
        "id": "-UCAEWCxZ6A4",
        "outputId": "7f12cfd8-7bc4-4bb3-8d10-7cc0c1e3fe32"
      },
      "execution_count": null,
      "outputs": [
        {
          "output_type": "stream",
          "name": "stdout",
          "text": [
            "<class 'pandas.core.frame.DataFrame'>\n",
            "Int64Index: 10000 entries, 0 to 9999\n",
            "Data columns (total 6 columns):\n",
            " #   Column             Non-Null Count  Dtype  \n",
            "---  ------             --------------  -----  \n",
            " 0   Employee_ID        10000 non-null  object \n",
            " 1   Age                9427 non-null   float64\n",
            " 2   Education_Level    10000 non-null  int64  \n",
            " 3    Computer_OS       10000 non-null  object \n",
            " 4    Computer_tickets  10000 non-null  int64  \n",
            " 5    Mobile_OS         10000 non-null  object \n",
            "dtypes: float64(1), int64(2), object(3)\n",
            "memory usage: 546.9+ KB\n"
          ]
        },
        {
          "output_type": "stream",
          "name": "stderr",
          "text": [
            "<ipython-input-6-215ca0782d29>:1: SettingWithCopyWarning: \n",
            "A value is trying to be set on a copy of a slice from a DataFrame\n",
            "\n",
            "See the caveats in the documentation: https://pandas.pydata.org/pandas-docs/stable/user_guide/indexing.html#returning-a-view-versus-a-copy\n",
            "  final_df[' Computer_OS'].fillna('No registrado', inplace=True)\n",
            "<ipython-input-6-215ca0782d29>:2: SettingWithCopyWarning: \n",
            "A value is trying to be set on a copy of a slice from a DataFrame\n",
            "\n",
            "See the caveats in the documentation: https://pandas.pydata.org/pandas-docs/stable/user_guide/indexing.html#returning-a-view-versus-a-copy\n",
            "  final_df[' Mobile_OS'].fillna('No registrado', inplace=True)\n"
          ]
        }
      ]
    },
    {
      "cell_type": "markdown",
      "source": [
        "### Extracción de información de interés"
      ],
      "metadata": {
        "id": "AI1ISlP5aIBv"
      }
    },
    {
      "cell_type": "code",
      "source": [
        "# % de personas que usan cada OS en computadora.\n",
        "windows_perc = (final_df[' Computer_OS'] == 'Windows').sum() / len(final_df) *100\n",
        "macos_perc = (final_df[' Computer_OS'] == 'MacOS').sum() / len(final_df) *100\n",
        "linux_perc = (final_df[' Computer_OS'] == 'Linux').sum() / len(final_df) *100\n",
        "nr_perc = (final_df[' Computer_OS'] == 'No registrado').sum() / len(final_df) *100\n",
        "print(f'El porcentaje de personas que usan Windows en su computadora es {windows_perc:.1f}%.')\n",
        "print(f'El porcentaje de personas que usan MacOS en su computadora es {macos_perc:.1f}%.')\n",
        "print(f'El porcentaje de personas que usan Linux en su computadora es {linux_perc:.1f}%.')\n",
        "print(f'El porcentaje de personas sin registro de OS en su computadora es {nr_perc:.1f}%.')"
      ],
      "metadata": {
        "colab": {
          "base_uri": "https://localhost:8080/"
        },
        "id": "mYsGp776aVY9",
        "outputId": "b8d4b3c3-8640-47ef-e6bc-03023df4f14b"
      },
      "execution_count": null,
      "outputs": [
        {
          "output_type": "stream",
          "name": "stdout",
          "text": [
            "El porcentaje de personas que usan Windows en su computadora es 77.3%.\n",
            "El porcentaje de personas que usan MacOS en su computadora es 16.3%.\n",
            "El porcentaje de personas que usan Linux en su computadora es 4.8%.\n",
            "El porcentaje de personas sin registro de OS en su computadora es 1.6%.\n"
          ]
        }
      ]
    },
    {
      "cell_type": "code",
      "source": [
        "# % de personas que usan cada OS en teléfono móvil.\n",
        "ios_perc = (final_df[' Mobile_OS'] == 'iOS').sum() / len(final_df) *100\n",
        "android_perc = (final_df[' Mobile_OS'] == 'Android').sum() / len(final_df) *100\n",
        "nrm_perc = (final_df[' Mobile_OS'] == 'No registrado').sum() / len(final_df) *100\n",
        "print(f'El porcentaje de personas que usan iOS en su móvil es {ios_perc:.1f}%.')\n",
        "print(f'El porcentaje de personas que usan Android en su móvil es {android_perc:.1f}%.')\n",
        "print(f'El porcentaje de personas sin registro de OS en su móvil es {nrm_perc:.1f}%.')"
      ],
      "metadata": {
        "colab": {
          "base_uri": "https://localhost:8080/"
        },
        "id": "RcS26EPdcllF",
        "outputId": "5ba96055-f26d-4f67-c5a5-932fb96fb0a5"
      },
      "execution_count": null,
      "outputs": [
        {
          "output_type": "stream",
          "name": "stdout",
          "text": [
            "El porcentaje de personas que usan iOS en su móvil es 20.5%.\n",
            "El porcentaje de personas que usan Android en su móvil es 76.6%.\n",
            "El porcentaje de personas sin registro de OS en su móvil es 2.9%.\n"
          ]
        }
      ]
    },
    {
      "cell_type": "code",
      "source": [
        "# Edad promedio de las personas que usan c/u de los OS (de escritorio).\n",
        "windows_mean = final_df.loc[(final_df[' Computer_OS'] == 'Windows'), 'Age'].mean()\n",
        "macos_mean = final_df.loc[(final_df[' Computer_OS'] == 'MacOS'), 'Age'].mean()\n",
        "linux_mean = final_df.loc[(final_df[' Computer_OS'] == 'Linux'), 'Age'].mean()\n",
        "print(f'La edad promedio de las personas con Windows en escritorio es de '\n",
        "      f'{windows_mean:.1f} años.')\n",
        "print(f'La edad promedio de las personas con MacOS en escritorio es de '\n",
        "      f'{macos_mean:.1f} años.')\n",
        "print(f'La edad promedio de las personas con Linux en escritorio es de '\n",
        "      f'{linux_mean:.1f} años.')"
      ],
      "metadata": {
        "colab": {
          "base_uri": "https://localhost:8080/"
        },
        "id": "fClwdXDQdYIu",
        "outputId": "47e7cf37-fa37-4d3f-e43d-6e40d463f5c8"
      },
      "execution_count": null,
      "outputs": [
        {
          "output_type": "stream",
          "name": "stdout",
          "text": [
            "La edad promedio de las personas con Windows en escritorio es de 39.5 años.\n",
            "La edad promedio de las personas con MacOS en escritorio es de 40.4 años.\n",
            "La edad promedio de las personas con Linux en escritorio es de 40.5 años.\n"
          ]
        }
      ]
    },
    {
      "cell_type": "code",
      "source": [
        "# Nivel educativo promedio de las personas que usan c/u de los OS (de escritorio).\n",
        "windows_educ = final_df.loc[(final_df[' Computer_OS'] == 'Windows'), 'Education_Level'].mean()\n",
        "macos_educ = final_df.loc[(final_df[' Computer_OS'] == 'MacOS'), 'Education_Level'].mean()\n",
        "linux_educ = final_df.loc[(final_df[' Computer_OS'] == 'Linux'), 'Education_Level'].mean()\n",
        "print(f'El nivel educativo de las personas que usan windows es {windows_educ:.1f}.')\n",
        "print(f'El nivel educativo de las personas que usan MacOS es {macos_educ:.1f}.')\n",
        "print(f'El nivel educativo de las personas que usan Linux es {linux_educ:.1f}.')"
      ],
      "metadata": {
        "colab": {
          "base_uri": "https://localhost:8080/"
        },
        "id": "YB_r8FHWiMDz",
        "outputId": "d7c77bbe-ec22-4938-c9c4-2657b6565372"
      },
      "execution_count": null,
      "outputs": [
        {
          "output_type": "stream",
          "name": "stdout",
          "text": [
            "El nivel educativo de las personas que usan windows es 3.2.\n",
            "El nivel educativo de las personas que usan MacOS es 3.2.\n",
            "El nivel educativo de las personas que usan Linux es 3.2.\n"
          ]
        }
      ]
    },
    {
      "cell_type": "code",
      "source": [
        "# Número de tickets generados por las personas en cada OS (de escritorio).\n",
        "windows_tickets = final_df.loc[(final_df[' Computer_OS'] == 'Windows'), ' Computer_tickets'].sum()\n",
        "macos_tickets = final_df.loc[(final_df[' Computer_OS'] == 'MacOS'), ' Computer_tickets'].sum()\n",
        "linux_tickets = final_df.loc[(final_df[' Computer_OS'] == 'Linux'), ' Computer_tickets'].sum()\n",
        "print('La cantidad de tickets generados con Windows son', windows_tickets,'.')\n",
        "print('La cantidad de tickets generados con MacOS son', macos_tickets,'.')\n",
        "print('La cantidad de tickets generados con Linux son', linux_tickets,'.')"
      ],
      "metadata": {
        "colab": {
          "base_uri": "https://localhost:8080/"
        },
        "id": "dOoc9uj7cEYn",
        "outputId": "9c803b76-944f-403a-ad69-2b2d331a07dd"
      },
      "execution_count": null,
      "outputs": [
        {
          "output_type": "stream",
          "name": "stdout",
          "text": [
            "La cantidad de tickets generados con Windows son 21169 .\n",
            "La cantidad de tickets generados con MacOS son 1880 .\n",
            "La cantidad de tickets generados con Linux son 254 .\n"
          ]
        }
      ]
    },
    {
      "cell_type": "markdown",
      "source": [
        "### Generación de archivos .xlsx con información extraída"
      ],
      "metadata": {
        "id": "HMotUfeAeTIO"
      }
    },
    {
      "cell_type": "code",
      "source": [
        "df1 = {\n",
        "    'Computer_OS': ['Windows', 'MacOS', 'Linux', 'No registrado'],\n",
        "    '%_people': [77.3, 16.3, 4.8, 1.6]\n",
        "}\n",
        "df2 = {\n",
        "    'Mobile_OS': ['iOS', 'Android', 'No registrado'],\n",
        "    '%_people': [20.5, 76.6, 2.9]\n",
        "}\n",
        "df3 = {\n",
        "    'Computer_OS': ['Windows', 'MacOS', 'Linux'],\n",
        "    'Mean_age(years)': [39.5, 40.4, 40.5]\n",
        "}\n",
        "df4 = {\n",
        "    'Computer_OS': ['Windows', 'MacOS', 'Linux'],\n",
        "    'Education_level': [3.2, 3.2, 3.2]\n",
        "}\n",
        "df5 = {\n",
        "    'Computer_OS': ['Windows', 'MacOS', 'Linux'],\n",
        "    'Tickets': [21169, 1880, 254]\n",
        "}\n",
        "\n",
        "df1 = pd.DataFrame(df1)\n",
        "df2 = pd.DataFrame(df2)\n",
        "df3 = pd.DataFrame(df3)\n",
        "df4 = pd.DataFrame(df4)\n",
        "df5 = pd.DataFrame(df5)\n",
        "\n",
        "writer = pd.ExcelWriter('/content/employees_os_data.xlsx', engine='xlsxwriter')\n",
        "\n",
        "df1.to_excel(writer, sheet_name='%_usuarios_os_comp', index=False)\n",
        "df2.to_excel(writer, sheet_name='%_usuarios_os_mob', index=False)\n",
        "df3.to_excel(writer, sheet_name='edad_promedio', index=False)\n",
        "df4.to_excel(writer, sheet_name='nivel_educativo', index=False)\n",
        "df5.to_excel(writer, sheet_name='tickets', index=False)\n",
        "\n",
        "writer.close()\n",
        "\n",
        "# Opcional: guardar los dataframes generados para las búsquedas en hojas diferentes:\n",
        "# all_employees_data.to_excel(writer, sheet_name=\"general_employees_data\", index=False)\n",
        "# all_os_data.to_excel(writer, sheet_name=\"general_os_data\", index=False)\n",
        "# employees_df.to_excel(writer, sheet_name=\"employees_and_os\", index=False)\n",
        "# final_df.to_excel(writer, sheet_name=\"selected_data\", index=False)"
      ],
      "metadata": {
        "id": "3Axn1jwhkegr"
      },
      "execution_count": null,
      "outputs": []
    }
  ]
}